{
 "cells": [
  {
   "cell_type": "markdown",
   "metadata": {},
   "source": [
    "Example application: BB84\n",
    "\n",
    "Possible improvements in the next iteration:\n",
    "\n",
    "- add information reconciliation and privacy amplification steps."
   ]
  },
  {
   "cell_type": "code",
   "execution_count": 1,
   "metadata": {},
   "outputs": [],
   "source": [
    "%load_ext autoreload\n",
    "%autoreload 2"
   ]
  },
  {
   "cell_type": "code",
   "execution_count": 2,
   "metadata": {
    "tags": []
   },
   "outputs": [
    {
     "output_type": "stream",
     "name": "stdout",
     "text": "Overwriting BB84.py\n"
    }
   ],
   "source": [
    "%%writefile BB84.py\n",
    "import sys\n",
    "\n",
    "from random import SystemRandom\n",
    "\n",
    "sys.path.append(\".\")\n",
    "from .application import Application\n",
    "\n",
    "class BB84(Application):\n",
    "    def __init__(self, username):\n",
    "        super().__init__(username)\n",
    "        self.RNG = SystemRandom() # a high quality random number generator\n",
    "        self.basis_bits = []\n",
    "        self.prekey_bits = []\n",
    "        self.key_bits = []\n",
    "        self.bases_sent = False\n",
    "\n",
    "    def send_qubit(self, remote_user):\n",
    "        super().send_qubit(remote_user)\n",
    "\n",
    "    def receive_qubit(self, qubit): # a state has been teleported onto a local qubit.\n",
    "        print(\"received qubit\", qubit)\n",
    "        super().receive_qubit(qubit)\n",
    "        # measure\n",
    "        return\n",
    "\n",
    "    def send_bases(self, remote_user):\n",
    "        msg = {'msg' : \"forward to user\",  # this is the standard. Document it somewhere.\n",
    "               'sender' : self.username, \n",
    "               'receiver' : remoteUser,\n",
    "               'type' : \"basis bits\",\n",
    "               'data' : self.basis_bits}\n",
    "        self.send_message(self.quantum_internet, msg)\n",
    "        \n",
    "    def receive_bases(self, bases):\n",
    "        for i in range(len(bases)):\n",
    "            if bases[i] == self.basis_bits[i]:\n",
    "                self.key_bits.append(self.prekey_bits[i])\n",
    "        self.handle_exchange_complete()\n",
    "\n",
    "    def initiate_key_exchange(self, remote_user, n=10):\n",
    "        # check that the user is connected to the network.\n",
    "        if not self.quantum_internet.check_IsOnline(remote_user):\n",
    "            print(\"user\", remote_user, \"is not connected to the network.\")\n",
    "            return\n",
    "        self.basis_bits = self.randomBits(n)\n",
    "        self.prekey_bits = self.randomBits(n)\n",
    "        for (prekey,basis) in zip(prekey_bits,basis_bits):\n",
    "            if basis == 0:\n",
    "                self.send_qubit(basis(2,prekey), remote_user)\n",
    "            else:\n",
    "                self.send_qubit(H * basis(2,prekey), remote_user)\n",
    "            # wait for the remoteUser to acknowledge receipt and measurement\n",
    "\n",
    "    def send_message(self, obj, msg):\n",
    "        obj.handle_message(msg)\n",
    "\n",
    "    def handle_message(self, msg):\n",
    "        if super().handle_message(msg) == 1:\n",
    "            return # application has already handled the message\n",
    "        if msg['msg'] == \"msg from user\":\n",
    "            if msg['type'] == \"basis bits\":\n",
    "                self.receive_bases(msg['data'])\n",
    "                if not self.bases_sent:\n",
    "                    self.send_bases(msg['sender'])\n",
    "            if msg['type'] == \"qubits received\":\n",
    "                self.send_bases(msg['sender'])\n",
    "        else:\n",
    "            print(\"BB84 application received unknown message \\\"\" + msg['msg'] + \"\\\"\")\n",
    "\n",
    "    def handle_exchange_complete(self):\n",
    "        print(\"Key exchange complete:\", key)\n",
    "\n",
    "    def check_IfEve(self, pruned_key_bits):\n",
    "        # tests some bits of the key at random to check\n",
    "        # if there was an eavesdropper.\n",
    "        pass\n",
    "\n",
    "    def randomBits(self, n):\n",
    "        return [self.RNG.randrange(2) for i in range(n)]"
   ]
  },
  {
   "cell_type": "code",
   "execution_count": null,
   "metadata": {},
   "outputs": [],
   "source": []
  }
 ],
 "metadata": {
  "kernelspec": {
   "display_name": "Python 3.7.6 64-bit ('base': conda)",
   "language": "python",
   "name": "python_defaultSpec_1597773927947"
  },
  "language_info": {
   "codemirror_mode": {
    "name": "ipython",
    "version": 3
   },
   "file_extension": ".py",
   "mimetype": "text/x-python",
   "name": "python",
   "nbconvert_exporter": "python",
   "pygments_lexer": "ipython3",
   "version": "3.7.6-final"
  }
 },
 "nbformat": 4,
 "nbformat_minor": 2
}