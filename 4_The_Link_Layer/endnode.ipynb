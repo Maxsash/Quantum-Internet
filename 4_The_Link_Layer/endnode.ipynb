{
 "cells": [
  {
   "cell_type": "markdown",
   "metadata": {},
   "source": [
    "End nodes for end users. The end users have direct access to their end nodes in the application layer. Should this be here or should it be in the network layer? I think it should be here. Let's put it here and see how it works out."
   ]
  },
  {
   "cell_type": "code",
   "execution_count": 1,
   "metadata": {},
   "outputs": [],
   "source": [
    "%load_ext autoreload\n",
    "%autoreload 2"
   ]
  },
  {
   "cell_type": "code",
   "execution_count": 11,
   "metadata": {
    "tags": []
   },
   "outputs": [
    {
     "output_type": "stream",
     "name": "stdout",
     "text": "Overwriting endnode.py\n"
    }
   ],
   "source": [
    "%%writefile endnode.py\n",
    "import sys\n",
    "\n",
    "sys.path.append(\"..\")\n",
    "from _5_The_Physical_Layer.node_hardware.endnode_hardware import EndnodeHardware\n",
    "from _4_The_Link_Layer.link import Link\n",
    "\n",
    "class Endnode(object):\n",
    "    def __init__(self):\n",
    "        print(\"creating new endnode\")\n",
    "        self.netId = None\n",
    "        self.hardware = EndnodeHardware(self)\n",
    "        self.link = None\n",
    "        self.cable = None\n",
    "        self.parent_application = None\n",
    "        self.send_flag = False\n",
    "\n",
    "    def connect_cable(self, cable):\n",
    "        print(\"connecting cable in endnode\")\n",
    "        self.cable = cable\n",
    "        self.hardware.connect_fiber(cable.optical_fiber)\n",
    "        cable.connect_node(self)\n",
    "\n",
    "    def teleport_qubit(self):\n",
    "        # ask the hardware to execute the teleportation circuit\n",
    "        self.hardware.teleport_qubit()\n",
    "\n",
    "    # attempt to create link with another repeater\n",
    "    def attempt_link_creation(self, node):\n",
    "        print(\"attempting link creation in endnode\")\n",
    "        # prepare a link layer Link object.\n",
    "        if self.cable is None:\n",
    "            print(\"link creation failed: no cables connected.\")\n",
    "            return\n",
    "        else:\n",
    "            if node in (self.cable.node1, self.cable.node2):\n",
    "                self.link = Link()\n",
    "                self.link.node1 = self\n",
    "            else:\n",
    "                print(\"link creation failed: not connected to node.\")\n",
    "                return\n",
    "        # attempt link creation on the next free qubit\n",
    "        self.hardware.attempt_link_creation(node.hardware)\n",
    "\n",
    "    # attempt to do entanglement distillation of \n",
    "    # two links with the same repeater.\n",
    "    def attempt_distillation(self, links):\n",
    "        self.hardware.attempt_distillation()\n",
    "\n",
    "    # this function emits a signal to the link layer (which here takes the form \n",
    "    # of software running on the repeater).\n",
    "    def send_message(self, obj, msg):\n",
    "        obj.handle_message(msg)\n",
    "\n",
    "    # this function receives an emitted signal\n",
    "    def handle_message(self, msg):\n",
    "        print(\"endnode received message\")\n",
    "        if msg['msg'] == \"quantum internet: Link to remote user created.\":\n",
    "            if self.send_flag:\n",
    "                self.teleport_qubit()\n",
    "                self.send_flag = False\n",
    "        elif msg['msg'] == \"child hardware: Teleport done. Handle corrections.\":\n",
    "            # give the measurement results to the quantum internet, \n",
    "            # because I guess the quantum internet still has to do some\n",
    "            # stuff.\n",
    "            msg = {'msg' : \"endnode: Teleport done. Handle corrections.\",\n",
    "                   'measurement_result1' : msg['measurement_result1'],\n",
    "                   'measurement_result2' : msg['measurement_result2'],\n",
    "                   'sender_node' : self,\n",
    "                   'receiver_node' : self.link.node1 if self == self.link.node2 else self.link.node2}\n",
    "            self.send_message(\n",
    "                self.parent_application.quantum_internet,\n",
    "                msg\n",
    "            )\n",
    "            # teleportation uses up the link\n",
    "            self.link = None\n",
    "        elif msg['msg'] == \"quantum internet: Teleport done. Handle corrections.\":\n",
    "            self.hardware.apply_teleport_corrections(msg['measurement_result1'], \n",
    "                                                       msg['measurement_result2'])\n",
    "            # link is now used up\n",
    "            self.link = None\n",
    "        elif msg['msg'] == \"child hardware: Teleport corrections applied.\":\n",
    "            # notify the parent application that it has received a qubit\n",
    "            msg = {'msg' : \"child endnode: Qubit received.\"}\n",
    "            self.send_message(self.parent_application, msg)\n",
    "        elif msg['msg'] == \"child hardware: Entanglement swapping corrections applied.\":\n",
    "            return\n",
    "        elif msg['msg'] == \"neighbor repeater: Entanglement swapping done. Handle corrections.\":\n",
    "            self.hardware.apply_swap_corrections(msg['measurement_result1'], \n",
    "                                            msg['measurement_result2'])\n",
    "        elif msg['msg'] == \"child hardware: Received qubit.\":\n",
    "            return\n",
    "        elif msg['msg'] == \"child hardware: Received link qubit.\":\n",
    "            sender = msg['sender']\n",
    "            if type(sender).__name__ == \"EndnodeHardware\":\n",
    "                remote_node = sender.parent_endnode # sender is a node hardware\n",
    "            else:\n",
    "                remote_node = sender.parent_repeater\n",
    "            side = \"left\" if self.netId > remote_node.netId else \"right\"\n",
    "            if side == \"left\":\n",
    "                if type(remote_node).__name__ == \"Endnode\":\n",
    "                    self.link = remote_node.link\n",
    "                else:\n",
    "                    self.link = remote_node.right_link\n",
    "                self.link.node2 = self\n",
    "            else:\n",
    "                if type(remote_node).__name__ == \"Endnode\":\n",
    "                    self.link = remote_node.link\n",
    "                else:\n",
    "                    self.link = remote_node.left_link\n",
    "                self.link.node2 = self\n",
    "            # notify the parent repeater chain\n",
    "            if self.parent_repeater_chain:\n",
    "                msg = {'msg' : \"child endnode: Link created.\",\n",
    "                       'link': self.link if side == \"left\" else self.link,\n",
    "                       'side': side}\n",
    "                self.send_message(self.parent_repeater_chain, msg)\n",
    "        elif msg['msg'] == \"child hardware: Sent link qubit.\":\n",
    "            return\n",
    "        else:\n",
    "            print(\"endnode received unknown message \\\"\" + msg['msg'] + \"\\\"\")"
   ]
  },
  {
   "cell_type": "markdown",
   "metadata": {},
   "source": [
    "# Tests"
   ]
  },
  {
   "cell_type": "markdown",
   "metadata": {},
   "source": [
    "### Two Endnode objects attempt to create entanglement between themselves"
   ]
  },
  {
   "cell_type": "code",
   "execution_count": 3,
   "metadata": {
    "tags": []
   },
   "outputs": [
    {
     "output_type": "stream",
     "name": "stdout",
     "text": "imported Qubit object <class '_5_The_Physical_Layer.qubit_carriers.qubit.Qubit'>\nimported global_state_container module <module 'common.global_state_container.global_state_container' from '..\\\\common\\\\global_state_container\\\\global_state_container.py'>\nimported Photon object <class '_5_The_Physical_Layer.qubit_carriers.photon.Photon'>\nimported EndnodeHardware object <class '_5_The_Physical_Layer.node_hardware.endnode_hardware.EndnodeHardware'>\nimported Link object <class '_4_The_Link_Layer.link.Link'>\nimported OpticalFiber object <class '_5_The_Physical_Layer.optical_fiber.optical_fiber.OpticalFiber'>\ncreating new endnode\ncreating endnode hardware\ncreating new qubit\ncreating new qubit in global state\nbefore: None\nGUI not on\nafter: Quantum object: dims = [[2], [2]], shape = (2, 2), type = oper, isherm = True\nQobj data =\n[[1. 0.]\n [0. 0.]]\n[<_5_The_Physical_Layer.qubit_carriers.qubit.Qubit object at 0x000001521D3DEF88>]\ncreating new qubit\ncreating new qubit in global state\nbefore: Quantum object: dims = [[2], [2]], shape = (2, 2), type = oper, isherm = True\nQobj data =\n[[1. 0.]\n [0. 0.]]\nGUI not on\nafter: Quantum object: dims = [[2, 2], [2, 2]], shape = (4, 4), type = oper, isherm = True\nQobj data =\n[[1. 0. 0. 0.]\n [0. 0. 0. 0.]\n [0. 0. 0. 0.]\n [0. 0. 0. 0.]]\n[<_5_The_Physical_Layer.qubit_carriers.qubit.Qubit object at 0x000001521D3DEF88>, <_5_The_Physical_Layer.qubit_carriers.qubit.Qubit object at 0x000001521FBC5748>]\ncreating new endnode\ncreating endnode hardware\ncreating new qubit\ncreating new qubit in global state\nbefore: Quantum object: dims = [[2, 2], [2, 2]], shape = (4, 4), type = oper, isherm = True\nQobj data =\n[[1. 0. 0. 0.]\n [0. 0. 0. 0.]\n [0. 0. 0. 0.]\n [0. 0. 0. 0.]]\nGUI not on\nafter: Quantum object: dims = [[2, 2, 2], [2, 2, 2]], shape = (8, 8), type = oper, isherm = True\nQobj data =\n[[1. 0. 0. 0. 0. 0. 0. 0.]\n [0. 0. 0. 0. 0. 0. 0. 0.]\n [0. 0. 0. 0. 0. 0. 0. 0.]\n [0. 0. 0. 0. 0. 0. 0. 0.]\n [0. 0. 0. 0. 0. 0. 0. 0.]\n [0. 0. 0. 0. 0. 0. 0. 0.]\n [0. 0. 0. 0. 0. 0. 0. 0.]\n [0. 0. 0. 0. 0. 0. 0. 0.]]\n[<_5_The_Physical_Layer.qubit_carriers.qubit.Qubit object at 0x000001521D3DEF88>, <_5_The_Physical_Layer.qubit_carriers.qubit.Qubit object at 0x000001521FBC5748>, <_5_The_Physical_Layer.qubit_carriers.qubit.Qubit object at 0x0000015220715F08>]\ncreating new qubit\ncreating new qubit in global state\nbefore: Quantum object: dims = [[2, 2, 2], [2, 2, 2]], shape = (8, 8), type = oper, isherm = True\nQobj data =\n[[1. 0. 0. 0. 0. 0. 0. 0.]\n [0. 0. 0. 0. 0. 0. 0. 0.]\n [0. 0. 0. 0. 0. 0. 0. 0.]\n [0. 0. 0. 0. 0. 0. 0. 0.]\n [0. 0. 0. 0. 0. 0. 0. 0.]\n [0. 0. 0. 0. 0. 0. 0. 0.]\n [0. 0. 0. 0. 0. 0. 0. 0.]\n [0. 0. 0. 0. 0. 0. 0. 0.]]\nGUI not on\nafter: Quantum object: dims = [[2, 2, 2, 2], [2, 2, 2, 2]], shape = (16, 16), type = oper, isherm = True\nQobj data =\n[[1. 0. 0. 0. 0. 0. 0. 0. 0. 0. 0. 0. 0. 0. 0. 0.]\n [0. 0. 0. 0. 0. 0. 0. 0. 0. 0. 0. 0. 0. 0. 0. 0.]\n [0. 0. 0. 0. 0. 0. 0. 0. 0. 0. 0. 0. 0. 0. 0. 0.]\n [0. 0. 0. 0. 0. 0. 0. 0. 0. 0. 0. 0. 0. 0. 0. 0.]\n [0. 0. 0. 0. 0. 0. 0. 0. 0. 0. 0. 0. 0. 0. 0. 0.]\n [0. 0. 0. 0. 0. 0. 0. 0. 0. 0. 0. 0. 0. 0. 0. 0.]\n [0. 0. 0. 0. 0. 0. 0. 0. 0. 0. 0. 0. 0. 0. 0. 0.]\n [0. 0. 0. 0. 0. 0. 0. 0. 0. 0. 0. 0. 0. 0. 0. 0.]\n [0. 0. 0. 0. 0. 0. 0. 0. 0. 0. 0. 0. 0. 0. 0. 0.]\n [0. 0. 0. 0. 0. 0. 0. 0. 0. 0. 0. 0. 0. 0. 0. 0.]\n [0. 0. 0. 0. 0. 0. 0. 0. 0. 0. 0. 0. 0. 0. 0. 0.]\n [0. 0. 0. 0. 0. 0. 0. 0. 0. 0. 0. 0. 0. 0. 0. 0.]\n [0. 0. 0. 0. 0. 0. 0. 0. 0. 0. 0. 0. 0. 0. 0. 0.]\n [0. 0. 0. 0. 0. 0. 0. 0. 0. 0. 0. 0. 0. 0. 0. 0.]\n [0. 0. 0. 0. 0. 0. 0. 0. 0. 0. 0. 0. 0. 0. 0. 0.]\n [0. 0. 0. 0. 0. 0. 0. 0. 0. 0. 0. 0. 0. 0. 0. 0.]]\n[<_5_The_Physical_Layer.qubit_carriers.qubit.Qubit object at 0x000001521D3DEF88>, <_5_The_Physical_Layer.qubit_carriers.qubit.Qubit object at 0x000001521FBC5748>, <_5_The_Physical_Layer.qubit_carriers.qubit.Qubit object at 0x0000015220715F08>, <_5_The_Physical_Layer.qubit_carriers.qubit.Qubit object at 0x0000015220715488>]\n"
    }
   ],
   "source": [
    "from endnode import Endnode\n",
    "from cable import Cable\n",
    "\n",
    "from common.global_state_container import global_state_container\n",
    "\n",
    "global_state_container.init()\n",
    "\n",
    "node1 = Endnode()\n",
    "node2 = Endnode()"
   ]
  },
  {
   "cell_type": "code",
   "execution_count": 4,
   "metadata": {
    "tags": []
   },
   "outputs": [
    {
     "output_type": "stream",
     "name": "stdout",
     "text": "creating new cable\ncreating new optical fiber\nconnecting cable in endnode\nconnecting fiber in endnode hardware\nconnecting cable in endnode\nconnecting fiber in endnode hardware\n"
    }
   ],
   "source": [
    "cable = Cable()\n",
    "\n",
    "node1.connect_cable(cable)\n",
    "node2.connect_cable(cable)"
   ]
  },
  {
   "cell_type": "code",
   "execution_count": 5,
   "metadata": {
    "tags": []
   },
   "outputs": [
    {
     "output_type": "stream",
     "name": "stdout",
     "text": "creating new photon\ncreating new qubit in global state\nbefore: Quantum object: dims = [[2, 2, 2, 2], [2, 2, 2, 2]], shape = (16, 16), type = oper, isherm = True\nQobj data =\n[[1. 0. 0. 0. 0. 0. 0. 0. 0. 0. 0. 0. 0. 0. 0. 0.]\n [0. 0. 0. 0. 0. 0. 0. 0. 0. 0. 0. 0. 0. 0. 0. 0.]\n [0. 0. 0. 0. 0. 0. 0. 0. 0. 0. 0. 0. 0. 0. 0. 0.]\n [0. 0. 0. 0. 0. 0. 0. 0. 0. 0. 0. 0. 0. 0. 0. 0.]\n [0. 0. 0. 0. 0. 0. 0. 0. 0. 0. 0. 0. 0. 0. 0. 0.]\n [0. 0. 0. 0. 0. 0. 0. 0. 0. 0. 0. 0. 0. 0. 0. 0.]\n [0. 0. 0. 0. 0. 0. 0. 0. 0. 0. 0. 0. 0. 0. 0. 0.]\n [0. 0. 0. 0. 0. 0. 0. 0. 0. 0. 0. 0. 0. 0. 0. 0.]\n [0. 0. 0. 0. 0. 0. 0. 0. 0. 0. 0. 0. 0. 0. 0. 0.]\n [0. 0. 0. 0. 0. 0. 0. 0. 0. 0. 0. 0. 0. 0. 0. 0.]\n [0. 0. 0. 0. 0. 0. 0. 0. 0. 0. 0. 0. 0. 0. 0. 0.]\n [0. 0. 0. 0. 0. 0. 0. 0. 0. 0. 0. 0. 0. 0. 0. 0.]\n [0. 0. 0. 0. 0. 0. 0. 0. 0. 0. 0. 0. 0. 0. 0. 0.]\n [0. 0. 0. 0. 0. 0. 0. 0. 0. 0. 0. 0. 0. 0. 0. 0.]\n [0. 0. 0. 0. 0. 0. 0. 0. 0. 0. 0. 0. 0. 0. 0. 0.]\n [0. 0. 0. 0. 0. 0. 0. 0. 0. 0. 0. 0. 0. 0. 0. 0.]]\nGUI not on\nafter: Quantum object: dims = [[2, 2, 2, 2, 2], [2, 2, 2, 2, 2]], shape = (32, 32), type = oper, isherm = True\nQobj data =\n[[1. 0. 0. ... 0. 0. 0.]\n [0. 0. 0. ... 0. 0. 0.]\n [0. 0. 0. ... 0. 0. 0.]\n ...\n [0. 0. 0. ... 0. 0. 0.]\n [0. 0. 0. ... 0. 0. 0.]\n [0. 0. 0. ... 0. 0. 0.]]\n[<_5_The_Physical_Layer.qubit_carriers.qubit.Qubit object at 0x000001521D3DEF88>, <_5_The_Physical_Layer.qubit_carriers.qubit.Qubit object at 0x000001521FBC5748>, <_5_The_Physical_Layer.qubit_carriers.qubit.Qubit object at 0x0000015220715F08>, <_5_The_Physical_Layer.qubit_carriers.qubit.Qubit object at 0x0000015220715488>, <_5_The_Physical_Layer.qubit_carriers.photon.Photon object at 0x0000015220725F08>]\nGUI not on\nGUI not on\nendnode hardware receiving photon\nunloading data from photon onto local qubit\nGUI not on\ndestroying photon with id 4\ndestroying qubit 4 in global state\nbefore: Quantum object: dims = [[2, 2, 2, 2, 2], [2, 2, 2, 2, 2]], shape = (32, 32), type = oper, isherm = True\nQobj data =\n[[0.27596319 0.         0.         ... 0.         0.         0.        ]\n [0.         0.         0.         ... 0.         0.         0.        ]\n [0.         0.         0.         ... 0.         0.         0.        ]\n ...\n [0.         0.         0.         ... 0.         0.         0.        ]\n [0.         0.         0.         ... 0.         0.         0.        ]\n [0.         0.         0.         ... 0.         0.         0.        ]]\nGUI not on\n[<_5_The_Physical_Layer.qubit_carriers.qubit.Qubit object at 0x000001521D3DEF88>, <_5_The_Physical_Layer.qubit_carriers.qubit.Qubit object at 0x000001521FBC5748>, <_5_The_Physical_Layer.qubit_carriers.qubit.Qubit object at 0x0000015220715F08>, <_5_The_Physical_Layer.qubit_carriers.qubit.Qubit object at 0x0000015220715488>]\nafter: Quantum object: dims = [[2, 2, 2, 2], [2, 2, 2, 2]], shape = (16, 16), type = oper, isherm = True\nQobj data =\n[[0.27596319 0.         0.         0.         0.         0.\n  0.         0.         0.         0.         0.44699833 0.\n  0.         0.         0.         0.        ]\n [0.         0.         0.         0.         0.         0.\n  0.         0.         0.         0.         0.         0.\n  0.         0.         0.         0.        ]\n [0.         0.         0.         0.         0.         0.\n  0.         0.         0.         0.         0.         0.\n  0.         0.         0.         0.        ]\n [0.         0.         0.         0.         0.         0.\n  0.         0.         0.         0.         0.         0.\n  0.         0.         0.         0.        ]\n [0.         0.         0.         0.         0.         0.\n  0.         0.         0.         0.         0.         0.\n  0.         0.         0.         0.        ]\n [0.         0.         0.         0.         0.         0.\n  0.         0.         0.         0.         0.         0.\n  0.         0.         0.         0.        ]\n [0.         0.         0.         0.         0.         0.\n  0.         0.         0.         0.         0.         0.\n  0.         0.         0.         0.        ]\n [0.         0.         0.         0.         0.         0.\n  0.         0.         0.         0.         0.         0.\n  0.         0.         0.         0.        ]\n [0.         0.         0.         0.         0.         0.\n  0.         0.         0.         0.         0.         0.\n  0.         0.         0.         0.        ]\n [0.         0.         0.         0.         0.         0.\n  0.         0.         0.         0.         0.         0.\n  0.         0.         0.         0.        ]\n [0.44699833 0.         0.         0.         0.         0.\n  0.         0.         0.         0.         0.72403681 0.\n  0.         0.         0.         0.        ]\n [0.         0.         0.         0.         0.         0.\n  0.         0.         0.         0.         0.         0.\n  0.         0.         0.         0.        ]\n [0.         0.         0.         0.         0.         0.\n  0.         0.         0.         0.         0.         0.\n  0.         0.         0.         0.        ]\n [0.         0.         0.         0.         0.         0.\n  0.         0.         0.         0.         0.         0.\n  0.         0.         0.         0.        ]\n [0.         0.         0.         0.         0.         0.\n  0.         0.         0.         0.         0.         0.\n  0.         0.         0.         0.        ]\n [0.         0.         0.         0.         0.         0.\n  0.         0.         0.         0.         0.         0.\n  0.         0.         0.         0.        ]]\n"
    }
   ],
   "source": [
    "# print(node1.cable is None)\n",
    "node1.attempt_link_creation(node2)"
   ]
  },
  {
   "cell_type": "code",
   "execution_count": null,
   "metadata": {},
   "outputs": [],
   "source": []
  }
 ],
 "metadata": {
  "kernelspec": {
   "display_name": "Python 3.7.6 64-bit ('base': conda)",
   "language": "python",
   "name": "python_defaultSpec_1597773403833"
  },
  "language_info": {
   "codemirror_mode": {
    "name": "ipython",
    "version": 3
   },
   "file_extension": ".py",
   "mimetype": "text/x-python",
   "name": "python",
   "nbconvert_exporter": "python",
   "pygments_lexer": "ipython3",
   "version": "3.7.6-final"
  }
 },
 "nbformat": 4,
 "nbformat_minor": 4
}