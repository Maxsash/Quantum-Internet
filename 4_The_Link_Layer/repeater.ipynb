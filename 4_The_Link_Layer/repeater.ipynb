{
 "cells": [
  {
   "cell_type": "markdown",
   "metadata": {},
   "source": [
    "repeater (link layer wrapper around the hardware of a repeater). Link layer protocols will be implemented here.\n",
    "\n",
    "Note that the repeater does not see quantum gates, it only knows to which other repeaters it's linked and the fidelities of these links."
   ]
  },
  {
   "cell_type": "code",
   "execution_count": 1,
   "metadata": {},
   "outputs": [],
   "source": [
    "%load_ext autoreload\n",
    "%autoreload 2"
   ]
  },
  {
   "cell_type": "code",
   "execution_count": 1,
   "metadata": {
    "tags": []
   },
   "outputs": [
    {
     "output_type": "stream",
     "name": "stdout",
     "text": "Overwriting repeater.py\n"
    }
   ],
   "source": [
    "%%writefile repeater.py\n",
    "import sys\n",
    "\n",
    "sys.path.append(\"..\")\n",
    "from _5_The_Physical_Layer.node_hardware.repeater_hardware import RepeaterHardware\n",
    "from _4_The_Link_Layer.link import Link\n",
    "\n",
    "class Repeater(object):\n",
    "    def __init__(self, parent_repeater_chain, n=1):\n",
    "        print(\"creating new repeater\")\n",
    "        self.netId = None\n",
    "        self.parent_repeater_chain = parent_repeater_chain\n",
    "        self.hardware = RepeaterHardware(self)\n",
    "        self.left_link = None\n",
    "        self.right_link = None\n",
    "        self.left_cable = None\n",
    "        self.right_cable = None\n",
    "\n",
    "    def connect_right_cable(self, cable):\n",
    "        print(\"connecting right cable in repeater\")\n",
    "        self.right_cable = cable\n",
    "        self.hardware.connect_right_fiber(cable.optical_fiber)\n",
    "        cable.connect_node(self)\n",
    "        \n",
    "    def connect_left_cable(self, cable):\n",
    "        print(\"connecting left cable in repeater\")\n",
    "        self.left_cable = cable\n",
    "        self.hardware.connect_left_fiber(cable.optical_fiber)\n",
    "        cable.connect_node(self)\n",
    "    \n",
    "    def attempt_swap(self, left_link, right_link):\n",
    "        print(\"repeater\", self , \": Attempting swap.\")\n",
    "        if left_link == None:\n",
    "            print(\"repeater\", self , \": Swap failed. Left link missing.\")\n",
    "            return\n",
    "        if right_link == None:\n",
    "            print(\"repeater\", self , \": Swap failed. Right link missing.\")\n",
    "            return    \n",
    "        self.hardware.swap_entanglement()\n",
    "\n",
    "    # attempt to create link with another node\n",
    "    def attempt_link_creation(self, node):\n",
    "        print(\"attempting link creation in repeater\")\n",
    "        # prepare a link layer Link object.\n",
    "        if self.left_cable is None:\n",
    "            if self.right_cable is None:\n",
    "                print(\"link creation failed: no cables connected.\")\n",
    "                return\n",
    "            else:\n",
    "                if node in (self.right_cable.node1, self.right_cable.node2):\n",
    "                    side = \"right\"\n",
    "                else:\n",
    "                    print(\"link creation failed: not connected to node\", node)\n",
    "                    return\n",
    "        else:\n",
    "            if node in (self.left_cable.node1, self.left_cable.node2):\n",
    "                side = \"left\"\n",
    "            else:\n",
    "                if self.right_cable is None:\n",
    "                    print(\"link creation failed: not connected to node.\")\n",
    "                    return\n",
    "                else:\n",
    "                    if node in (self.right_cable.node1, self.right_cable.node2):\n",
    "                        side = \"right\"\n",
    "                    else:\n",
    "                        print(\"link creation failed: not connected to node.\")\n",
    "                        return\n",
    "        # side = \"left\" if node in (self.left_cable.node1, self.left_cable.node2) else \"right\"\n",
    "        if side == \"left\":\n",
    "            self.left_link = Link()\n",
    "            self.left_link.node1 = self\n",
    "        else:\n",
    "            self.right_link = Link()\n",
    "            self.right_link.node1 = self\n",
    "        # ask the hardware to attempt link creation\n",
    "        self.hardware.attempt_link_creation(node.hardware)\n",
    "\n",
    "    # attempt to do entanglement distillation of \n",
    "    # two links with the same repeater.\n",
    "    def attempt_distillation(self, links):\n",
    "        self.hardware.attempt_distillation()\n",
    "\n",
    "    # this function emits a signal to the link layer (which here takes the form \n",
    "    # of software running on the repeater).\n",
    "    def send_message(self, obj, msg):\n",
    "        obj.handle_message(msg)\n",
    "\n",
    "    # this function receives an emitted signal\n",
    "    def handle_message(self, msg):\n",
    "        print(\"repeater received message\")\n",
    "        if msg['msg'] == \"child hardware: Entanglement swapping done. Handle corrections.\":\n",
    "            # update connections table\n",
    "            self.handle_swap_success() # you're still not handling corrections.\n",
    "            # retitle the message and forward it.\n",
    "            # Note that the msg contains two measurement results.\n",
    "            msg['msg'] = \"neighbor repeater: Entanglement swapping done. Handle corrections.\"\n",
    "            msg['sender'] = self\n",
    "            remote_repeater = self.right_cable.node1 if self.right_cable.node1 != self else self.right_cable.node2\n",
    "            self.send_message(remote_repeater, msg)\n",
    "        elif msg['msg'] == \"neighbor repeater: Entanglement swapping done. Handle corrections.\":\n",
    "            measurement_result1 = msg['measurement_result1']\n",
    "            measurement_result2 = msg['measurement_result2']\n",
    "            sender = msg['sender']\n",
    "            # assume we have received the qubit already.\n",
    "            # ask the repeaterHardware to apply corrections.\n",
    "            side = \"left\" if sender in (self.left_cable.node1, self.left_cable.node2) else \"right\"\n",
    "            self.hardware.apply_swap_corrections(side,\n",
    "                                                       measurement_result1, \n",
    "                                                       measurement_result2)\n",
    "        elif msg['msg'] == \"child hardware: Entanglement swapping corrections applied.\":\n",
    "            # update connections table\n",
    "#             self.handle_swap_success(..., ...)\n",
    "            return\n",
    "        elif msg['msg'] == \"child hardware: Received qubit.\":\n",
    "            return\n",
    "        elif msg['msg'] == \"child hardware: Received link qubit.\":\n",
    "            sender = msg['sender']\n",
    "            if type(sender).__name__ == \"EndnodeHardware\":\n",
    "                remote_node = sender.parent_endnode # sender is a node hardware\n",
    "            else:\n",
    "                remote_node = sender.parent_repeater\n",
    "            side = \"left\" if remote_node in (self.left_cable.node1, self.left_cable.node2) else \"right\"\n",
    "            if side == \"left\":\n",
    "                if type(remote_node).__name__ == \"Endnode\":\n",
    "                    self.left_link = remote_node.link\n",
    "                else:\n",
    "                    self.left_link = remote_node.right_link\n",
    "                self.left_link.node2 = self\n",
    "            else:\n",
    "                if type(remote_node).__name__ == \"Endnode\":\n",
    "                    self.right_link = remote_node.link\n",
    "                else:\n",
    "                    self.right_link = remote_node.left_link\n",
    "                self.right_link.node2 = self\n",
    "            # notify the parent repeater chain\n",
    "            if self.parent_repeater_chain:\n",
    "                msg = {'msg' : \"child repeater: Link created.\",\n",
    "                       'link': self.left_link if side == \"left\" else self.right_link,\n",
    "                       'side': side}\n",
    "                self.send_message(self.parent_repeater_chain, msg)\n",
    "        elif msg['msg'] == \"child hardware: Sent link qubit.\":\n",
    "            # receiver = msg['receiver'].parent_repeater # change this to parent node throughout\n",
    "            # side = \"left\" if receiver in (self.left_cable.node1, self.left_cable.node2) else \"right\"\n",
    "            # if side == \"left\":\n",
    "            #     self.left_link = Link()\n",
    "            #     self.left_link.node1 = self\n",
    "            # else:\n",
    "            #     self.right_link = Link()\n",
    "            #     self.right_link.node1 = self\n",
    "            return\n",
    "        else:\n",
    "            print(\"repeater received unknown message \\\"\" + msg['msg'] + \"\\\"\")\n",
    "\n",
    "    def handle_swap_success(self):\n",
    "        # create new link between edge nodes and discard used up links\n",
    "        # print(\"debug:\", self.left_link, self.right_link)\n",
    "        left_edge_node = self.left_link.node1 if self.left_link.node1 != self else self.left_link.node2\n",
    "        right_edge_node = self.right_link.node1 if self.right_link.node1 != self else self.right_link.node2\n",
    "        new_link = Link()\n",
    "        new_link.node1 = left_edge_node\n",
    "        new_link.node2 = right_edge_node\n",
    "        # new_link.fidelity = ...\n",
    "        # print(\"debug: \", left_edge_node, right_edge_node)\n",
    "        if type(left_edge_node).__name__ == \"Endnode\":\n",
    "            left_edge_node.link = new_link\n",
    "        else:\n",
    "            left_edge_node.right_link = Link()\n",
    "        if type(right_edge_node).__name__ == \"Endnode\":\n",
    "            right_edge_node.link = new_link\n",
    "        else:\n",
    "            right_edge_node.left_link = new_link\n",
    "        #notify parent repeater chain (network layer)\n",
    "        msg = {'msg' : \"repeater: Swap complete.\",\n",
    "               'node1': self.left_link.node1 if self == self.left_link.node2 else self.left_link.node2,\n",
    "               'node2': self.right_link.node1 if self == self.right_link.node2 else self.right_link.node2}\n",
    "        self.send_message(self.parent_repeater_chain, msg)\n",
    "        # destroy links involved in swap\n",
    "        self.left_link = None\n",
    "        self.right_link = None\n",
    "        print(\"repeater\", self , \": Swapping done.\")\n",
    "\n",
    "#     def handle_link_creation_success(self, side, remote_repeater):\n",
    "#         if side == \"left\":\n",
    "#             self.left_link = remote_repeater\n",
    "#         elif side == \"right\":\n",
    "#             self.right_link = remote_repeater\n",
    "    \n",
    "#    def handle_link_request(self):\n",
    "#        # determine if the other repeater is on the left or right\n",
    "            \n",
    "#        # check if there is a node available on that side \n",
    "            \n",
    "#        if slotAvailable:\n",
    "#            # create the link\n",
    "#            self.attempt_link_creation() #specify nodes here#"
   ]
  },
  {
   "cell_type": "markdown",
   "metadata": {},
   "source": [
    "# Tests"
   ]
  },
  {
   "cell_type": "markdown",
   "metadata": {},
   "source": [
    "### Two Repeater objects attempt to create entanglement between themselves"
   ]
  },
  {
   "cell_type": "code",
   "execution_count": 2,
   "metadata": {
    "tags": []
   },
   "outputs": [
    {
     "output_type": "stream",
     "name": "stdout",
     "text": "imported global_state_container module <module 'common.global_state_container.global_state_container' from '..\\\\common\\\\global_state_container\\\\global_state_container.py'>\nimported OpticalFiber object <class '_5_The_Physical_Layer.optical_fiber.optical_fiber.OpticalFiber'>\ncreating new repeater\ncreating new repeater hardware\ncreating new qubit\ncreating new qubit in global state\nGUI not on\ncreating new qubit\ncreating new qubit in global state\nGUI not on\ncreating new repeater\ncreating new repeater hardware\ncreating new qubit\ncreating new qubit in global state\nGUI not on\ncreating new qubit\ncreating new qubit in global state\nGUI not on\n"
    }
   ],
   "source": [
    "from repeater import Repeater\n",
    "from cable import Cable\n",
    "\n",
    "from common.global_state_container import global_state_container\n",
    "\n",
    "global_state_container.init()\n",
    "\n",
    "node1 = Repeater(parent_repeater_chain=None)\n",
    "node2 = Repeater(parent_repeater_chain=None)"
   ]
  },
  {
   "cell_type": "code",
   "execution_count": 3,
   "metadata": {
    "tags": []
   },
   "outputs": [
    {
     "output_type": "stream",
     "name": "stdout",
     "text": "creating new cable\ncreating new optical fiber\nconnecting right cable in repeater\nconnecting right optical fiber in repeater hardware\nconnecting left cable in repeater\nconnecting left optical fiber in repeater hardware\n"
    }
   ],
   "source": [
    "cable = Cable()\n",
    "\n",
    "node1.connect_right_cable(cable)\n",
    "node2.connect_left_cable(cable)"
   ]
  },
  {
   "cell_type": "code",
   "execution_count": 4,
   "metadata": {
    "tags": []
   },
   "outputs": [
    {
     "output_type": "stream",
     "name": "stdout",
     "text": "attempting link creation in repeater\nattempting link creation repeater hardware\ncreating new photon\ncreating new qubit in global state\nGUI not on\nGUI not on\nGUI not on\nrepeater hardware receiving photon\nunloading data from photon onto local qubit\nGUI not on\ndestroying photon with id 4\ndestroying qubit 4 in global state\nGUI not on\n"
    }
   ],
   "source": [
    "# print(node2.left_cable)\n",
    "node1.attempt_link_creation(node2)"
   ]
  },
  {
   "cell_type": "code",
   "execution_count": null,
   "metadata": {},
   "outputs": [],
   "source": []
  }
 ],
 "metadata": {
  "kernelspec": {
   "display_name": "Python 3.7.6 64-bit ('base': conda)",
   "language": "python",
   "name": "python_defaultSpec_1597773617306"
  },
  "language_info": {
   "codemirror_mode": {
    "name": "ipython",
    "version": 3
   },
   "file_extension": ".py",
   "mimetype": "text/x-python",
   "name": "python",
   "nbconvert_exporter": "python",
   "pygments_lexer": "ipython3",
   "version": "3.7.6-final"
  }
 },
 "nbformat": 4,
 "nbformat_minor": 2
}