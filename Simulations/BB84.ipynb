{
 "cells": [
  {
   "cell_type": "code",
   "execution_count": 1,
   "metadata": {
    "tags": []
   },
   "outputs": [],
   "source": [
    "%load_ext autoreload\n",
    "%autoreload 2"
   ]
  },
  {
   "cell_type": "code",
   "execution_count": 2,
   "metadata": {
    "tags": []
   },
   "outputs": [
    {
     "output_type": "stream",
     "name": "stdout",
     "text": "imported global_state_container module <module 'common.global_state_container.global_state_container' from '..\\\\common\\\\global_state_container\\\\global_state_container.py'>\nimported OpticalFiber object <class '_5_The_Physical_Layer.optical_fiber.optical_fiber.OpticalFiber'>\ncreating quantum internet\ncreating new repeater chain\ncreating new repeater\ncreating new repeater hardware\ncreating new qubit\ncreating new qubit in global state\nGUI not on\ncreating new qubit\ncreating new qubit in global state\nGUI not on\ncreating new repeater\ncreating new repeater hardware\ncreating new qubit\ncreating new qubit in global state\nGUI not on\ncreating new qubit\ncreating new qubit in global state\nGUI not on\ncreating new repeater\ncreating new repeater hardware\ncreating new qubit\ncreating new qubit in global state\nGUI not on\ncreating new qubit\ncreating new qubit in global state\nGUI not on\ncreating new cable\ncreating new optical fiber\nconnecting right cable in repeater\nconnecting right optical fiber in repeater hardware\nassigned net id 1\ncreating new cable\ncreating new optical fiber\nconnecting right cable in repeater\nconnecting right optical fiber in repeater hardware\nconnecting left cable in repeater\nconnecting left optical fiber in repeater hardware\nassigned net id 2\nconnecting left cable in repeater\nconnecting left optical fiber in repeater hardware\nassigned net id 3\n"
    }
   ],
   "source": [
    "import sys\n",
    "\n",
    "sys.path.append(\"..\")\n",
    "# from common.GUI.GUI import GUI\n",
    "from _2_The_Transport_Layer.quantum_internet import QuantumInternet\n",
    "from _1_The_Applications_Layer.BB84 import BB84\n",
    "\n",
    "# Humans build a quantum internet. It is a linear chain of 3 repeaters\n",
    "# and it supports only two end users.\n",
    "qInternet = QuantumInternet(length=3)"
   ]
  },
  {
   "cell_type": "code",
   "execution_count": 3,
   "metadata": {
    "tags": []
   },
   "outputs": [
    {
     "output_type": "stream",
     "name": "stdout",
     "text": "creating new application\ncreating new endnode\ncreating endnode hardware\ncreating new qubit\ncreating new qubit in global state\nGUI not on\ncreating new qubit\ncreating new qubit in global state\nGUI not on\nconnecting application (endnode) to quantum internet\nconnecting endnode to repeater chain\ncreating new cable\ncreating new optical fiber\nconnecting cable in endnode\nconnecting fiber in endnode hardware\nconnecting left cable in repeater\nconnecting left optical fiber in repeater hardware\nassigned net id 0\nnew user added to user table: {'Alice': <_1_The_Applications_Layer.BB84.BB84 object at 0x000002291C1260C8>}\n"
    }
   ],
   "source": [
    "# Alice, an eminent cryptologist at Star Fleet academy, has acquired\n",
    "# one of the new and popular BB84 machines. A BB84 machine allows any\n",
    "# two users to perform BB84 key exchange over the quantum internet\n",
    "# that humans have just built. \n",
    "# Alice starts her machine, then connects it to the quantum internet cable coming\n",
    "# out of her wall.\n",
    "BB84Alice = BB84(username = \"Alice\")\n",
    "qInternet.connect(BB84Alice)\n",
    "\n",
    "#               _,,,_\n",
    "#             .'     `'.\n",
    "#            /     ____ \\\n",
    "#           |    .'_  _\\/\n",
    "#           /    ) a  a|         .----.\n",
    "#          /    (    > |        /|     '--.\n",
    "#         (      ) ._  /        ||    ]|   `-.\n",
    "#         )    _/-.__.'`\\       ||    ]|    ::|\n",
    "#        (  .-'`-.   \\__ )      ||    ]|    ::|\n",
    "#         `/      `-./  `.      ||    ]|    ::|\n",
    "#        _ |    \\      \\  \\     \\|    ]|   .-'\n",
    "#       / \\|     \\   \\  \\  \\     L.__  .--'(\n",
    "#      |   |\\     `. /  /   \\  ,---|_      \\---------,\n",
    "#      |   `\\'.     '. /`\\   \\/ .--._|=-    |_      /|\n",
    "#      |     \\ '.     '._ './`\\/ .-'          '.   / |\n",
    "#      |     |   `'.     `;-:-;`)|             |-./  |\n",
    "#      |    /_      `'--./_  ` )/'-------------')/)  |\n",
    "#      \\   | `\"\"\"\"----\"`\\//`\"\"`/,===..'`````````/ (  |\n",
    "#       |  |            / `---` `==='          /   ) |\n",
    "#       /  \\           /                      /   (  |\n",
    "#      |    '------.  |'--------------------'|     ) |\n",
    "#       \\           `-|                      |    /  |\n",
    "#        `--...,______|                      |   (   |\n",
    "#               | |   |                      |    ) ,|\n",
    "#               | |   |                      |   ( /||\n",
    "#               | |   |                      |   )/ `\"\n",
    "#              /   \\  |                      |  (/\n",
    "#        jgs .' /I\\ '.|                      |  /)\n",
    "#         .-'_.'/ \\'. |                      | /\n",
    "#         ```  `\"\"\"` `| .-------------------.||\n",
    "#                     `\"`                   `\"`"
   ]
  },
  {
   "cell_type": "code",
   "execution_count": 4,
   "metadata": {
    "tags": []
   },
   "outputs": [
    {
     "output_type": "stream",
     "name": "stdout",
     "text": "creating new application\ncreating new endnode\ncreating endnode hardware\ncreating new qubit\ncreating new qubit in global state\nGUI not on\ncreating new qubit\ncreating new qubit in global state\nGUI not on\nconnecting application (endnode) to quantum internet\nconnecting endnode to repeater chain\ncreating new cable\ncreating new optical fiber\nconnecting right cable in repeater\nconnecting right optical fiber in repeater hardware\nconnecting cable in endnode\nconnecting fiber in endnode hardware\nassigned net id 4\nnew user added to user table: {'Alice': <_1_The_Applications_Layer.BB84.BB84 object at 0x000002291C1260C8>, 'Bob': <_1_The_Applications_Layer.BB84.BB84 object at 0x000002291C74EF08>}\n"
    }
   ],
   "source": [
    "# Bob, Alice's half-Vulcan half-brother, lives four federation cities away \n",
    "# from Alice. He bought the BB84 machine because Alice really wanted \n",
    "# to try it and he felt it would be a good opportunity for them to do \n",
    "# something fun together.\n",
    "# Bob starts his machine, then connects it to the quantum internet \n",
    "# cable in his wall.\n",
    "BB84Bob = BB84(username = \"Bob\")\n",
    "qInternet.connect(BB84Bob)\n",
    "\n",
    "#               :                                 :       \n",
    "#             :                                   :       \n",
    "#             :  RRVIttIti+==iiii++iii++=;:,       :      \n",
    "#             : IBMMMMWWWWMMMMMBXXVVYYIi=;:,        :     \n",
    "#             : tBBMMMWWWMMMMMMBXXXVYIti;;;:,,      :     \n",
    "#             t YXIXBMMWMMBMBBRXVIi+==;::;::::       ,    \n",
    "#            ;t IVYt+=+iIIVMBYi=:,,,=i+=;:::::,      ;;   \n",
    "#            YX=YVIt+=,,:=VWBt;::::=,,:::;;;:;:     ;;;   \n",
    "#            VMiXRttItIVRBBWRi:.tXXVVYItiIi==;:   ;;;;    \n",
    "#            =XIBWMMMBBBMRMBXi;,tXXRRXXXVYYt+;;: ;;;;;    \n",
    "#             =iBWWMMBBMBBWBY;;;,YXRRRRXXVIi;;;:;,;;;=    \n",
    "#              iXMMMMMWWBMWMY+;=+IXRRXXVYIi;:;;:,,;;=     \n",
    "#              iBRBBMMMMYYXV+:,:;+XRXXVIt+;;:;++::;;;     \n",
    "#              =MRRRBMMBBYtt;::::;+VXVIi=;;;:;=+;;;;=     \n",
    "#               XBRBBBBBMMBRRVItttYYYYt=;;;;;;==:;=       \n",
    "#                VRRRRRBRRRRXRVYYIttiti=::;:::=;=         \n",
    "#                 YRRRRXXVIIYIiitt+++ii=:;:::;==          \n",
    "#                 +XRRXIIIIYVVI;i+=;=tt=;::::;:;          \n",
    "#                  tRRXXVYti++==;;;=iYt;:::::,;;          \n",
    "#                   IXRRXVVVVYYItiitIIi=:::;,::;          \n",
    "#                    tVXRRRBBRXVYYYIti;::::,::::          \n",
    "#                     YVYVYYYYYItti+=:,,,,,:::::;         \n",
    "#                     YRVI+==;;;;;:,,,,,,,:::::::"
   ]
  },
  {
   "cell_type": "code",
   "execution_count": 6,
   "metadata": {
    "tags": []
   },
   "outputs": [
    {
     "output_type": "stream",
     "name": "stdout",
     "text": "loading |+> state on memory qubit in endnode hardware\nGUI not on\nrequesting link in quantum internet\nhandling link request in repeater chain\ninitiating link creation using protocol example protocol 1\nattempting link creation in repeater\nattempting link creation in repeater hardware\ncreating new photon\ncreating new qubit in global state\nGUI not on\nGUI not on\nGUI not on\nrepeater hardware receiving photon\nunloading data from photon onto local qubit\nGUI not on\nreceived link qubit in repeater\nrepeater received message\nrepeater chain received message\nrepeater chain received unknown message \"child repeater: Link created.\"\ndestroying photon with id 10\ndestroying qubit 10 in global state\nGUI not on\nrepeater received message\nattempting link creation in repeater\nattempting link creation in repeater hardware\ncreating new photon\ncreating new qubit in global state\nGUI not on\nGUI not on\nGUI not on\nrepeater hardware receiving photon\nunloading data from photon onto local qubit\nGUI not on\nreceived link qubit in repeater\nrepeater received message\nrepeater chain received message\nrepeater chain received unknown message \"child repeater: Link created.\"\ndestroying photon with id 10\ndestroying qubit 10 in global state\nGUI not on\nrepeater received message\nattempting link creation in endnode\nattempting link creation in endnode hardware.\ncreating new photon\ncreating new qubit in global state\nGUI not on\nGUI not on\nGUI not on\nrepeater hardware receiving photon\nunloading data from photon onto local qubit\nGUI not on\nreceived link qubit in repeater\nrepeater received message\nrepeater chain received message\nrepeater chain received unknown message \"child repeater: Link created.\"\ndestroying photon with id 10\ndestroying qubit 10 in global state\nGUI not on\nendnode received message\nattempting link creation in endnode\nattempting link creation in endnode hardware.\ncreating new photon\ncreating new qubit in global state\nGUI not on\nGUI not on\nGUI not on\nrepeater hardware receiving photon\nunloading data from photon onto local qubit\nGUI not on\nreceived link qubit in repeater\nrepeater received message\nrepeater chain received message\nrepeater chain received unknown message \"child repeater: Link created.\"\ndestroying photon with id 10\ndestroying qubit 10 in global state\nGUI not on\nendnode received message\nrepeater <_4_The_Link_Layer.repeater.Repeater object at 0x000002291939D588> : Attempting swap.\nswapping entanglement in repeater hardware\nGUI not on\nmeasuring qubit in repeater hardware\nGUI not on\nmeasuring qubit in repeater hardware\nGUI not on\nrepeater received message\nrepeater chain received message\nrepeater <_4_The_Link_Layer.repeater.Repeater object at 0x000002291939D588> : Swapping done.\nrepeater received message\napplying swap corrections in repeater hardware\nrepeater <_4_The_Link_Layer.repeater.Repeater object at 0x000002291C731988> : Attempting swap.\nswapping entanglement in repeater hardware\nGUI not on\nmeasuring qubit in repeater hardware\nGUI not on\nmeasuring qubit in repeater hardware\nGUI not on\nrepeater received message\nrepeater chain received message\nrepeater <_4_The_Link_Layer.repeater.Repeater object at 0x000002291C731988> : Swapping done.\nrepeater received message\napplying swap corrections in repeater hardware\nGUI not on\nrepeater received message\nrepeater <_4_The_Link_Layer.repeater.Repeater object at 0x000002291C7744C8> : Attempting swap.\nswapping entanglement in repeater hardware\nGUI not on\nmeasuring qubit in repeater hardware\nGUI not on\nmeasuring qubit in repeater hardware\nGUI not on\nrepeater received message\nrepeater chain received message\nquantum internet received message\nendnode received message\nteleporting qubit in endnode hardware.\nGUI not on\nmeasuring qubit in endnode hardware\nGUI not on\nmeasuring qubit in endnode hardware\nGUI not on\nendnode received message\nquantum internet received message\nendnode received message\napplying teleport corrections in endnode hardware.\nGUI not on\nendnode received message\napplication received message\napplication received qubit with state Quantum object: dims = [[2], [2]], shape = (2, 2), type = oper, isherm = True\nQobj data =\n[[0.07335048+0.j         0.20618554-0.15955473j]\n [0.20618554+0.15955473j 0.92664952+0.j        ]]\nendnode received message\nrepeater <_4_The_Link_Layer.repeater.Repeater object at 0x000002291C7744C8> : Swapping done.\nendnode received message\napplying swap corrections in endnode hardware\n"
    }
   ],
   "source": [
    "# * Alice and Bob on the phone *\n",
    "# Alice: looks like everything's connected. Let's\n",
    "# start with a little test. Let me try to send you \n",
    "# a qubit. I am going to send you the |0> state.\n",
    "BB84Alice.endnode.hardware.load_plus_on_memory_qubit()\n",
    "BB84Alice.send_qubit(\"Bob\")"
   ]
  },
  {
   "cell_type": "code",
   "execution_count": 16,
   "metadata": {
    "tags": []
   },
   "outputs": [],
   "source": [
    "qInternet.repeater_chain.repeaters[1].left_link"
   ]
  },
  {
   "cell_type": "code",
   "execution_count": 17,
   "metadata": {},
   "outputs": [],
   "source": [
    "qInternet.repeater_chain.repeaters[2].right_link"
   ]
  },
  {
   "cell_type": "code",
   "execution_count": 18,
   "metadata": {},
   "outputs": [],
   "source": [
    "BB84Alice.endnode.link"
   ]
  },
  {
   "cell_type": "code",
   "execution_count": 19,
   "metadata": {},
   "outputs": [],
   "source": [
    "BB84Bob.endnode.link"
   ]
  },
  {
   "cell_type": "code",
   "execution_count": 7,
   "metadata": {},
   "outputs": [
    {
     "output_type": "error",
     "ename": "NameError",
     "evalue": "name 'prekey_bits' is not defined",
     "traceback": [
      "\u001b[1;31m---------------------------------------------------------------------------\u001b[0m",
      "\u001b[1;31mNameError\u001b[0m                                 Traceback (most recent call last)",
      "\u001b[1;32m<ipython-input-7-6efcee4cb680>\u001b[0m in \u001b[0;36m<module>\u001b[1;34m\u001b[0m\n\u001b[0;32m      2\u001b[0m \u001b[1;31m# Bob: I am ready, as well.\u001b[0m\u001b[1;33m\u001b[0m\u001b[1;33m\u001b[0m\u001b[1;33m\u001b[0m\u001b[0m\n\u001b[0;32m      3\u001b[0m \u001b[1;31m# Alice: I am going to initiate the key exchange ... now!\u001b[0m\u001b[1;33m\u001b[0m\u001b[1;33m\u001b[0m\u001b[1;33m\u001b[0m\u001b[0m\n\u001b[1;32m----> 4\u001b[1;33m \u001b[0mBB84Alice\u001b[0m\u001b[1;33m.\u001b[0m\u001b[0minitiate_key_exchange\u001b[0m\u001b[1;33m(\u001b[0m\u001b[1;34m\"Bob\"\u001b[0m\u001b[1;33m)\u001b[0m\u001b[1;33m\u001b[0m\u001b[1;33m\u001b[0m\u001b[0m\n\u001b[0m",
      "\u001b[1;32mc:\\Users\\basse\\Documents\\GitHub\\Quantum-Internet\\_1_The_Applications_Layer\\BB84.py\u001b[0m in \u001b[0;36minitiate_key_exchange\u001b[1;34m(self, remote_user, n)\u001b[0m\n\u001b[0;32m     45\u001b[0m         \u001b[0mself\u001b[0m\u001b[1;33m.\u001b[0m\u001b[0mbasis_bits\u001b[0m \u001b[1;33m=\u001b[0m \u001b[0mself\u001b[0m\u001b[1;33m.\u001b[0m\u001b[0mrandomBits\u001b[0m\u001b[1;33m(\u001b[0m\u001b[0mn\u001b[0m\u001b[1;33m)\u001b[0m\u001b[1;33m\u001b[0m\u001b[1;33m\u001b[0m\u001b[0m\n\u001b[0;32m     46\u001b[0m         \u001b[0mself\u001b[0m\u001b[1;33m.\u001b[0m\u001b[0mprekey_bits\u001b[0m \u001b[1;33m=\u001b[0m \u001b[0mself\u001b[0m\u001b[1;33m.\u001b[0m\u001b[0mrandomBits\u001b[0m\u001b[1;33m(\u001b[0m\u001b[0mn\u001b[0m\u001b[1;33m)\u001b[0m\u001b[1;33m\u001b[0m\u001b[1;33m\u001b[0m\u001b[0m\n\u001b[1;32m---> 47\u001b[1;33m         \u001b[1;32mfor\u001b[0m \u001b[1;33m(\u001b[0m\u001b[0mprekey\u001b[0m\u001b[1;33m,\u001b[0m\u001b[0mbasis\u001b[0m\u001b[1;33m)\u001b[0m \u001b[1;32min\u001b[0m \u001b[0mzip\u001b[0m\u001b[1;33m(\u001b[0m\u001b[0mprekey_bits\u001b[0m\u001b[1;33m,\u001b[0m\u001b[0mbasis_bits\u001b[0m\u001b[1;33m)\u001b[0m\u001b[1;33m:\u001b[0m\u001b[1;33m\u001b[0m\u001b[1;33m\u001b[0m\u001b[0m\n\u001b[0m\u001b[0;32m     48\u001b[0m             \u001b[1;32mif\u001b[0m \u001b[0mbasis\u001b[0m \u001b[1;33m==\u001b[0m \u001b[1;36m0\u001b[0m\u001b[1;33m:\u001b[0m\u001b[1;33m\u001b[0m\u001b[1;33m\u001b[0m\u001b[0m\n\u001b[0;32m     49\u001b[0m                 \u001b[0mself\u001b[0m\u001b[1;33m.\u001b[0m\u001b[0msend_qubit\u001b[0m\u001b[1;33m(\u001b[0m\u001b[0mbasis\u001b[0m\u001b[1;33m(\u001b[0m\u001b[1;36m2\u001b[0m\u001b[1;33m,\u001b[0m\u001b[0mprekey\u001b[0m\u001b[1;33m)\u001b[0m\u001b[1;33m,\u001b[0m \u001b[0mremote_user\u001b[0m\u001b[1;33m)\u001b[0m\u001b[1;33m\u001b[0m\u001b[1;33m\u001b[0m\u001b[0m\n",
      "\u001b[1;31mNameError\u001b[0m: name 'prekey_bits' is not defined"
     ]
    }
   ],
   "source": [
    "# Alice: Ok, ready!\n",
    "# Bob: I am ready, as well.\n",
    "# Alice: I am going to initiate the key exchange ... now!\n",
    "BB84Alice.initiate_key_exchange(\"Bob\")"
   ]
  }
 ],
 "metadata": {
  "kernelspec": {
   "display_name": "Python 3.7.6 64-bit ('base': conda)",
   "language": "python",
   "name": "python_defaultSpec_1597780011338"
  },
  "language_info": {
   "codemirror_mode": {
    "name": "ipython",
    "version": 3
   },
   "file_extension": ".py",
   "mimetype": "text/x-python",
   "name": "python",
   "nbconvert_exporter": "python",
   "pygments_lexer": "ipython3",
   "version": "3.7.6-final"
  }
 },
 "nbformat": 4,
 "nbformat_minor": 2
}