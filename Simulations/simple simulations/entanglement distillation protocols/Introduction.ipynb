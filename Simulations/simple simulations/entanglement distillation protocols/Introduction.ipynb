{
 "cells": [
  {
   "cell_type": "markdown",
   "metadata": {},
   "source": [
    "# To Do:\n",
    "1. Add relevance with BB84 protocol\n",
    "2. Add illustrations\n",
    "3. Edit to make document cohesive\n",
    "4. Understand and add data on quantification of distillation\n",
    "\n",
    "# Notes:\n",
    "\n",
    "Assume setup that allows long distance entanglement between Alice and Bob\n",
    "\n",
    "CNOT: if control bit is in superposition state, we flip and don't flip the target bit. This correlates the two qubits. Other words, transfers certain information about the first qubit to the second one."
   ]
  },
  {
   "cell_type": "markdown",
   "metadata": {},
   "source": [
    "# What is entanglement distillation?\n",
    "\n",
    "Use multiple copies of weakly entangles states, combine them and eliminate contamination by extracting only the entangled part. Resulting in fewer but more strongly entangled states.\n",
    "\n",
    "Multiple runs of the procedure required.\n",
    "\n",
    "FROM THE EXAMPLE: Alice and Bob keep the source state on registers A1B1 only if the target copy (A2B2) was measured to be 11, they are guaranteed to extract the perfect maximally entangled state.\n",
    "\n",
    "Usually can't eliminate noise using only two input copies.\n",
    "\n",
    "# Why do we need entanglement distillation?\n",
    "\n",
    "Fully entangled states are experimentally impossible to create.\n",
    "\n",
    "Reasons: equipment isn't perfect or can't maintain quantum systems long enough\n",
    "\n",
    "Too weak entaglements won't allow shared secret key generation.\n",
    "\n",
    "##### Goal: increase quality of resulting entanglement as much as possible. \n",
    "\n",
    "# How does it work?\n",
    "\n",
    "### EPL-D : A less general protocol where the form of the state is known.\n",
    "#### This is an easier to understand protocol.\n",
    "\n",
    "Alice and Bob share TWO entangled pairs. Source pair is the one whose entanglement we will try to increase using the target copy. \n",
    "\n",
    "Alice and Bob both perform CNOT gates on both pairs, which correlate the two copies. \n",
    "\n",
    "Alice and Bob measure the two qubits of target copy locally. By collapsing the correlations of the target copy they effectively project the source copy in different states depending on the outcomes of their measurement.\n",
    "\n",
    "Finally they use classical communication channel to compare these classical outcomes.\n",
    "\n",
    "If source pair becomes projected into a more entangled state, it is kept. If the configuration of outcomes of Alice and Bob doesn't match the success condition, that is, the mesaurements have actually decreased the entanglement in the source pair, it is discarded.\n",
    "\n",
    "# Why is it non-trivial? What are the shortcomings?\n",
    "\n",
    "Any practical distillation procedure is normally probabilitstic -- only finite probability that resulting state is more entangled than the input copies.\n",
    "\n",
    "Trade off: Lots of improvement in fidelity means very small probability and vice versa.\n",
    "\n",
    "##### Fortunately, it is heralded -- we can tell whether it was a success or a failure using flags.\n",
    "\n",
    "# How is it relevant in the BB84 protocol?\n",
    "\n",
    "# How do we quantify the performance of a distillation protocol?\n",
    "\n",
    "We can use fidelity as measure of closeness of resulting state to the maximally entangled one."
   ]
  },
  {
   "cell_type": "code",
   "execution_count": null,
   "metadata": {},
   "outputs": [],
   "source": []
  }
 ],
 "metadata": {
  "kernelspec": {
   "display_name": "Python 3",
   "language": "python",
   "name": "python3"
  },
  "language_info": {
   "codemirror_mode": {
    "name": "ipython",
    "version": 3
   },
   "file_extension": ".py",
   "mimetype": "text/x-python",
   "name": "python",
   "nbconvert_exporter": "python",
   "pygments_lexer": "ipython3",
   "version": "3.7.6"
  }
 },
 "nbformat": 4,
 "nbformat_minor": 4
}
