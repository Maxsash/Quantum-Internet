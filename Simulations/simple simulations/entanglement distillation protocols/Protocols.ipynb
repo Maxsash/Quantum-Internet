{
 "cells": [
  {
   "cell_type": "markdown",
   "metadata": {},
   "source": [
    "# To Do:\n",
    "1. Add equations and formulae\n",
    "2. Edit to make document cohesive.\n",
    "3. Add illustrations \n",
    "4. Write the psuedo-code\n",
    "5. Write the working code\n",
    "\n",
    "# Notes :\n",
    "Need to read more to get a better understanding of how each protocol works. \n",
    "\n",
    "Currently, the protocol steps are just a copy-paste from __[Filip's thesis](https://pure.tudelft.nl/portal/files/54323035/dissertation.pdf)__ (Section 3.2.2).\n",
    "\n",
    "In that section, there are 2 more protocols. For entanglement generation and filtering. Reading more will help understand how relevant would they be and if they should be included in this document."
   ]
  },
  {
   "cell_type": "markdown",
   "metadata": {},
   "source": [
    "# Distillation protocols\n",
    "\n",
    "### We have 3 of them\n",
    "\n",
    "## 1. BBPSSW\n",
    "\n",
    "The most generic protocol where we only need to know the specific maximally entangled state to which the fidelity is the highest. We require the fidelity to be > 0.5 in order for the protocol to be able to increase it.\n",
    "\n",
    " Steps:\n",
    " 1. Depolarize the two available copies of the state to the isotropic state form with fidelity F = (3p + 1) /4\n",
    " 2. Apply bi-local CNOT gates between the two copies\n",
    " 3. Measure the target qubits and communicate the results.\n",
    " 4. if the measured flags are 00 or 11 (this occurs with probability = F^2 + 2F(1-F)/3 + 5[(1-F)/3]^2) then\n",
    " 5. The source copy becomes more entangled than before. We obtain a Bell diagonal state with fidelity F'\n",
    " \n",
    "## 2. DEJMPS\n",
    "\n",
    "If additionally to the dominant Bell state we also know the ordering in terms of magnitude of the other three Bell diagonal coefficients, then we can apply this protocol. Again, we require F > 0.5\n",
    "\n",
    " Steps:\n",
    " 1. Twirl the two available copies of the state to the BEll diagonal state\n",
    " 2. Perform local rotations on both Alics's and Bob's qubits so that the two copies are in the form:\n",
    "   (missing equation)\n",
    " 3. Perform additional rotations: rotate both qubits on Alice's side by pi/2 around X-axis and by -pi/2 on Bob's side.\n",
    " ##### Rest is same as BBPSSW from second step onwards but with different probability values.\n",
    " \n",
    "## 3. EPL-Distillation \n",
    "\n",
    "Used when the noise of the state is known. And is therefore more efficient then the earlier two schemes.\n",
    "(Name comes from the Extreme Photon Loss(EPL) entanglement generation scheme, where the main source of error comes from the photon loss. This form of distillation is utilized within EPL)\n",
    "\n",
    " Steps:\n",
    " 1. Apply bi-local CNOT gates between the two copies\n",
    " 2. Measure the target qubits and communicate the results.\n",
    " 3. if the measured flags are 11 then\n",
    " 4. Output the source (first) copy.\n",
    " ##### Notice the similarity with other protocols and how this is much more simplified."
   ]
  },
  {
   "cell_type": "code",
   "execution_count": null,
   "metadata": {},
   "outputs": [],
   "source": []
  }
 ],
 "metadata": {
  "kernelspec": {
   "display_name": "Python 3",
   "language": "python",
   "name": "python3"
  },
  "language_info": {
   "codemirror_mode": {
    "name": "ipython",
    "version": 3
   },
   "file_extension": ".py",
   "mimetype": "text/x-python",
   "name": "python",
   "nbconvert_exporter": "python",
   "pygments_lexer": "ipython3",
   "version": "3.7.6"
  }
 },
 "nbformat": 4,
 "nbformat_minor": 4
}
