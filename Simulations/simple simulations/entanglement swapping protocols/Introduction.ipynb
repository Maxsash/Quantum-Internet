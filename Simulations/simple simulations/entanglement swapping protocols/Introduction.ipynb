{
 "cells": [
  {
   "cell_type": "markdown",
   "metadata": {},
   "source": [
    "#### Entanglement swapping is this:\n",
    "\n",
    "    You have two nodes A and B, and a quantum repeater r between them: \n",
    "    \n",
    "    A      r      B\n",
    "    \n",
    "    You want to establish entanglement between A and B. But you cannot do it between A and B directly because they are too far away and photons will get lost too often. So what you do is first entangle A and r, and B and r: \n",
    "    \n",
    "    A ---- r ---- B\n",
    "    \n",
    "    Then, you weld the links inside r; Or you \"swap\" A's link with r for a link with B. This gives you the desired result: \n",
    "    \n",
    "      -----------\n",
    "     /           \\\n",
    "    A      r      B\n"
   ]
  },
  {
   "cell_type": "markdown",
   "metadata": {},
   "source": [
    "#### Entanglement swapping is non-trivial\n",
    "\n",
    "When there are many nodes it becomes non-trivial to determine the best way to do the swapping. This is because the hardware we can build in reality with current techology gives us links that collapse shortly after being created, or if the qubits that support them are manipulated too much."
   ]
  },
  {
   "cell_type": "markdown",
   "metadata": {},
   "source": [
    "#### So we need clever protocols"
   ]
  }
 ],
 "metadata": {
  "kernelspec": {
   "display_name": "Python 3",
   "language": "python",
   "name": "python3"
  },
  "language_info": {
   "codemirror_mode": {
    "name": "ipython",
    "version": 3
   },
   "file_extension": ".py",
   "mimetype": "text/x-python",
   "name": "python",
   "nbconvert_exporter": "python",
   "pygments_lexer": "ipython3",
   "version": "3.7.4"
  }
 },
 "nbformat": 4,
 "nbformat_minor": 2
}
