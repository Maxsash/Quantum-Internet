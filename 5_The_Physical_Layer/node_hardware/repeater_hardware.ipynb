{
 "cells": [
  {
   "cell_type": "markdown",
   "metadata": {},
   "source": [
    "There can be improvements on this class.\n",
    "\n",
    "Future repeaters might, for instance, support extra qubits for quantum error correction."
   ]
  },
  {
   "cell_type": "code",
   "execution_count": 1,
   "metadata": {},
   "outputs": [],
   "source": [
    "%load_ext autoreload\n",
    "%autoreload 2"
   ]
  },
  {
   "cell_type": "code",
   "execution_count": 1,
   "metadata": {
    "tags": []
   },
   "outputs": [
    {
     "output_type": "stream",
     "name": "stdout",
     "text": "Overwriting repeater_hardware.py\n"
    }
   ],
   "source": [
    "%%writefile repeater_hardware.py\n",
    "import sys\n",
    "import math\n",
    "import random\n",
    "from qutip import *\n",
    "\n",
    "sys.path.append(\"../..\")\n",
    "from _5_The_Physical_Layer.qubit_carriers.qubit import Qubit\n",
    "from _5_The_Physical_Layer.qubit_carriers.photon import Photon\n",
    "\n",
    "from common.global_state_container import global_state_container\n",
    "\n",
    "class RepeaterHardware(object):\n",
    "    def __init__(self, parent_repeater, qubits=2):\n",
    "        print(\"creating new repeater hardware\")\n",
    "        self.parent_repeater = parent_repeater\n",
    "        self.global_state = global_state_container.state\n",
    "        self.left_qubit = Qubit(self)\n",
    "        self.right_qubit = Qubit(self)\n",
    "        self.left_fiber = None\n",
    "        self.right_fiber = None                                         \n",
    "#         self.memoryQubits = []\n",
    "\n",
    "    def connect_right_fiber(self, fiber):\n",
    "        print(\"connecting right optical fiber in repeater hardware\")\n",
    "        self.right_fiber = fiber\n",
    "        fiber.connect_node_hardware(self)\n",
    "\n",
    "    def connect_left_fiber(self, fiber):\n",
    "        print(\"connecting left optical fiber in repeater hardware\")\n",
    "        self.left_fiber = fiber\n",
    "        fiber.connect_node_hardware(self)\n",
    "\n",
    "    def send_message(self, obj, msg):\n",
    "        obj.handle_message(msg)\n",
    "\n",
    "    def handle_message(self, msg):\n",
    "        return\n",
    "\n",
    "    def swap_entanglement(self):\n",
    "        print(\"swapping entanglement in repeater hardware\")\n",
    "        # proper quantum gates will be performed here.\n",
    "        # find the positions of the qubits in the globalState state\n",
    "        # apply the right qutip gates. Assume ideal gates at this point while you're\n",
    "        # building the thing.\n",
    "        # Do stuff to the global state container's state.\n",
    "        CNOT = cnot(N=int(math.log2(self.global_state.state.shape[0])), control=self.left_qubit.id, target=self.right_qubit.id)\n",
    "        new_state = CNOT * self.global_state.state * CNOT.dag()\n",
    "        Z180 = rz(180, N=int(math.log2(self.global_state.state.shape[0])), target=self.left_qubit.id)\n",
    "        Y90  = ry(90, N=int(math.log2(self.global_state.state.shape[0])), target=self.left_qubit.id)\n",
    "        H = Y90 * Z180\n",
    "        new_state = H * new_state * H.dag()\n",
    "        self.global_state.update_state(new_state)\n",
    "        measurement_result1 = self.measure(self.left_qubit)\n",
    "        measurement_result2 = self.measure(self.right_qubit)\n",
    "        # notify the parent repeater so that it can send the classical data to\n",
    "        # the other repeater.\n",
    "        msg = {'msg' : \"child hardware: Entanglement swapping done. Handle corrections.\", \n",
    "               'measurement_result1' : measurement_result1,\n",
    "               'measurement_result2' : measurement_result2}\n",
    "        self.send_message(self.parent_repeater, msg)\n",
    "        # Now the parent repeater should notify the remote repeater\n",
    "        # that swapping is done and should give it the measurement results.\n",
    "\n",
    "    def apply_swap_corrections(self, side, measurement_result1, measurement_result2):\n",
    "        print(\"applying swap corrections in repeater hardware\")\n",
    "        qubit = self.left_qubit if side == \"left\" else self.right_qubit\n",
    "        if measurement_result1 == 0 and measurement_result1 == 0:\n",
    "            return\n",
    "        elif measurement_result1 == 0 and measurement_result1 == 1:\n",
    "            correction = rz(180, N=int(math.log2(self.global_state.state.shape[0])), target=qubit.id)\n",
    "        elif measurement_result1 == 1 and measurement_result1 == 0:\n",
    "            correction = rx(180, N=int(math.log2(self.global_state.state.shape[0])), target=qubit.id)\n",
    "        elif measurement_result1 == 1 and measurement_result1 == 1:\n",
    "            correction = rz(180, N=int(math.log2(self.global_state.state.shape[0])), target=qubit.id)\n",
    "            correction = rx(180, N=int(math.log2(self.global_state.state.shape[0])), target=qubit.id) * correction\n",
    "        new_state = correction * self.global_state.state * correction.dag()\n",
    "        self.global_state.update_state(new_state)\n",
    "        msg = {'msg' : \"child hardware: Entanglement swapping corrections applied.\"}\n",
    "        self.send_message(self.parent_repeater, msg)\n",
    "\n",
    "    def measure(self, qubit, axis = \"01\"):\n",
    "        # https://inst.eecs.berkeley.edu/~cs191/fa14/lectures/lecture10.pdf\n",
    "        print(\"measuring qubit in repeater hardware\")\n",
    "        rho = self.global_state.state\n",
    "        # construct the projectors\n",
    "        P0 = tensor([identity(2) for _ in range(qubit.id)] + \n",
    "                    [basis(2,0) * basis(2,0).dag()] + \n",
    "                    [identity(2) for _ in range(qubit.id + 1, int(math.log2(self.global_state.state.shape[0])))])\n",
    "        P1 = tensor([identity(2) for _ in range(qubit.id)] + \n",
    "                    [basis(2,1) * basis(2,1).dag()] + \n",
    "                    [identity(2) for _ in range(qubit.id + 1, int(math.log2(self.global_state.state.shape[0])))])\n",
    "        # compute the probabilities of the 1 and 0 outcomes\n",
    "        # print(\"DEBUG: rho.tr() = \", rho.tr())\n",
    "        p0 = (P0 * rho).tr()\n",
    "        p1 = (P1 * rho).tr() # check that p1 = 1 - p0\n",
    "        # choose an outcome at random using the probabilities above.\n",
    "        result = 0 if random.random() < p0 else 1\n",
    "        # simulate state collapse\n",
    "        new_state = P0 * rho * P0 / p0 if result == 0 else P1 * rho * P1 / p1\n",
    "        # update globalState\n",
    "        self.global_state.update_state(new_state)\n",
    "        # return the measurement result\n",
    "        return result\n",
    "\n",
    "    def load_qubit_on_photon(self, qubit, photon):  # both qubit and photon are qubit objects\n",
    "        print(\"loading data from local qubit onto photon\")\n",
    "        # swaps the state of the photon and the local qubit \n",
    "        # (the photon should be initialized to |0>. The initialization \n",
    "        # can be noisy).\n",
    "        SWAP = swap(N=int(math.log2(self.global_state.state.shape[0])), targets=[qubit.id, photon.id])\n",
    "        newState = SWAP * self.global_state.state * SWAP.dag()\n",
    "        self.global_state.update_state(newState)\n",
    "\n",
    "    def unload_qubit_from_photon(self, qubit, photon):\n",
    "        print(\"unloading data from photon onto local qubit\")\n",
    "        # swaps the state of the photon and the local qubit \n",
    "        # (the local qubit should be initialized to |0>. The initialization \n",
    "        # can be noisy). \n",
    "        SWAP = swap(N=int(math.log2(self.global_state.state.shape[0])), targets=[qubit.id, photon.id])\n",
    "        new_state = SWAP * self.global_state.state * SWAP.dag()\n",
    "        self.global_state.update_state(new_state)\n",
    "        # notify the layers above that a qubit was received.\n",
    "        fiber = self.left_fiber if qubit == self.left_qubit else self.right_fiber\n",
    "        if photon.header == \"link\":\n",
    "            print(\"received link qubit in repeater\")\n",
    "            msg = {'msg' : \"child hardware: Received link qubit.\",  # this is the standard. Document it somewhere.\n",
    "                   'sender' : fiber.node2 if self == fiber.node1 else fiber.node1,\n",
    "                   'receiver' : self}\n",
    "        else:\n",
    "            msg = {'msg' : \"child hardware: Received qubit.\",  # this is the standard. Document it somewhere.\n",
    "                   'sender' : fiber.node2 if self == fiber.node1 else fiber.node1, \n",
    "                   'receiver' : self}\n",
    "        if self.parent_repeater:\n",
    "            self.send_message(self.parent_repeater, msg)\n",
    "        photon.destroy()\n",
    "\n",
    "    def send_photon_through_fiber(self, photon, fiber):\n",
    "        fiber.carry_photon(photon, self)\n",
    "\n",
    "    def receive_photon_from_fiber(self, photon, fiber):\n",
    "        print(\"repeater hardware receiving photon\")\n",
    "        # This function is called by an optical fiber to\n",
    "        # alert the repeaterHardware to receive the incoming photon.\n",
    "        # The repeaterHardware chooses a (physical) qubit on which to unload the \n",
    "        # qubit carried on the photon.\n",
    "        qubit = self.left_qubit if fiber == self.left_fiber else self.right_qubit\n",
    "        self.unload_qubit_from_photon(qubit, photon)\n",
    "\n",
    "    def attempt_link_creation(self, remote_node):\n",
    "        print(\"attempting link creation in repeater hardware\")\n",
    "        # remote is a repeater object.\n",
    "        # here the physical details of link creation will be implemented:\n",
    "        # 1. create EPR pair on one of the local qubits and a photon.\n",
    "        # 2. send the photon to the remote receiver.\n",
    "        if self.left_fiber is None:\n",
    "            fiber = self.right_fiber\n",
    "        elif self.right_fiber is None:\n",
    "            fiber = self.left_fiber\n",
    "        elif self.left_fiber.is_connected(remote_node):\n",
    "            fiber = self.left_fiber\n",
    "        else:\n",
    "            fiber = self.right_fiber\n",
    "#         fiber = self.left_fiber if self.left_fiber.is_connected(remote_node) else self.right_fiber\n",
    "        qubit = self.left_qubit if fiber == self.left_fiber else self.right_qubit\n",
    "        qubit.reset()\n",
    "        photon = Photon()\n",
    "        photon.header = \"link\"\n",
    "        Z180 = rz(180, N=int(math.log2(self.global_state.state.shape[0])), target=qubit.id)\n",
    "        Y90  = ry(90, N=int(math.log2(self.global_state.state.shape[0])), target=qubit.id)\n",
    "        H = Y90 * Z180\n",
    "        new_state = H * self.global_state.state * H.dag()\n",
    "        CNOT = cnot(N=int(math.log2(self.global_state.state.shape[0])), control=qubit.id, target=photon.id)\n",
    "        new_state = CNOT * new_state * CNOT.dag()\n",
    "        self.global_state.update_state(new_state)\n",
    "        self.send_photon_through_fiber(photon, fiber)\n",
    "        # notify parent_repeater\n",
    "        if self.parent_repeater:\n",
    "            msg = {'msg' : \"child hardware: Sent link qubit.\",  # this is the standard. Document it somewhere.\n",
    "                   'sender' : self, \n",
    "                   'receiver' : fiber.node2 if self == fiber.node1 else fiber.node1}\n",
    "            self.send_message(self.parent_repeater, msg)\n",
    "        # 3. (for later) check somehow that we have a good link.\n",
    "        # support for heralding stations and photon transmission, etc.\n",
    "\n",
    "    def attempt_distillation(self):\n",
    "        # apply gates on the qubits here\n",
    "        return"
   ]
  },
  {
   "cell_type": "markdown",
   "metadata": {},
   "source": [
    "# Tests"
   ]
  },
  {
   "cell_type": "markdown",
   "metadata": {},
   "source": [
    "### Two RepeaterHardware objects sending photons between each other"
   ]
  },
  {
   "cell_type": "code",
   "execution_count": 2,
   "metadata": {
    "tags": []
   },
   "outputs": [
    {
     "output_type": "stream",
     "name": "stdout",
     "text": "imported global_state_container module <module 'common.global_state_container.global_state_container' from '../..\\\\common\\\\global_state_container\\\\global_state_container.py'>\ncreating new repeater hardware\ncreating new qubit\ncreating new qubit in global state\nGUI not on\ncreating new qubit\ncreating new qubit in global state\nGUI not on\ncreating new repeater hardware\ncreating new qubit\ncreating new qubit in global state\nGUI not on\ncreating new qubit\ncreating new qubit in global state\nGUI not on\ncreating new optical fiber\nconnecting right optical fiber in repeater hardware\nconnecting left optical fiber in repeater hardware\ncreating new photon\ncreating new qubit in global state\nGUI not on\nGUI not on\nrepeater hardware receiving photon\nunloading data from photon onto local qubit\nGUI not on\ndestroying photon with id 4\ndestroying qubit 4 in global state\nGUI not on\n"
    }
   ],
   "source": [
    "from repeater_hardware import RepeaterHardware\n",
    "from _5_The_Physical_Layer.optical_fiber.optical_fiber import OpticalFiber\n",
    "from _5_The_Physical_Layer.qubit_carriers.photon import Photon\n",
    "\n",
    "from common.global_state_container import global_state_container\n",
    "\n",
    "global_state_container.init()\n",
    "\n",
    "node1 = RepeaterHardware(parent_repeater=None)\n",
    "node2 = RepeaterHardware(parent_repeater=None)\n",
    "\n",
    "fiber = OpticalFiber()\n",
    "node1.connect_right_fiber(fiber)\n",
    "node2.connect_left_fiber(fiber)\n",
    "\n",
    "node1.send_photon_through_fiber(Photon(), fiber)"
   ]
  },
  {
   "cell_type": "markdown",
   "metadata": {},
   "source": [
    "### Two RepeaterHardware objects create entanglement between each other"
   ]
  },
  {
   "cell_type": "code",
   "execution_count": 3,
   "metadata": {
    "tags": []
   },
   "outputs": [
    {
     "output_type": "stream",
     "name": "stdout",
     "text": "attempting link creation repeater hardware\ncreating new photon\ncreating new qubit in global state\nGUI not on\nGUI not on\nGUI not on\nrepeater hardware receiving photon\nunloading data from photon onto local qubit\nGUI not on\ndestroying photon with id 4\ndestroying qubit 4 in global state\nGUI not on\n"
    }
   ],
   "source": [
    "node1.attempt_link_creation(node2)"
   ]
  },
  {
   "cell_type": "code",
   "execution_count": null,
   "metadata": {},
   "outputs": [],
   "source": []
  }
 ],
 "metadata": {
  "kernelspec": {
   "display_name": "Python 3.7.6 64-bit ('base': conda)",
   "language": "python",
   "name": "python_defaultSpec_1597734094642"
  },
  "language_info": {
   "codemirror_mode": {
    "name": "ipython",
    "version": 3
   },
   "file_extension": ".py",
   "mimetype": "text/x-python",
   "name": "python",
   "nbconvert_exporter": "python",
   "pygments_lexer": "ipython3",
   "version": "3.7.6-final"
  }
 },
 "nbformat": 4,
 "nbformat_minor": 2
}