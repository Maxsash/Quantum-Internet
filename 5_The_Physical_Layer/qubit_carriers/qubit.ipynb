{
 "cells": [
  {
   "cell_type": "markdown",
   "metadata": {},
   "source": [
    "qubit hardware (part of the physical layer). \n",
    "\n",
    "Qubits live inside repeaterHardware and endnodes."
   ]
  },
  {
   "cell_type": "code",
   "execution_count": 1,
   "metadata": {},
   "outputs": [],
   "source": [
    "%load_ext autoreload\n",
    "%autoreload 2"
   ]
  },
  {
   "cell_type": "code",
   "execution_count": 2,
   "metadata": {},
   "outputs": [
    {
     "name": "stdout",
     "output_type": "stream",
     "text": [
      "Overwriting qubit.py\n"
     ]
    }
   ],
   "source": [
    "%%writefile qubit.py\n",
    "\n",
    "import sys\n",
    "\n",
    "sys.path.append(\"../..\")\n",
    "from common.global_state_container import global_state_container\n",
    "\n",
    "class Qubit(object):\n",
    "    def __init__(self, parent_hardware, decoherence_time=1):\n",
    "        print(\"creating new qubit\")\n",
    "        self.global_state = global_state_container.state\n",
    "        self.id = self.global_state.create_qubit(self)\n",
    "        self.decoherence_time = decoherence_time\n",
    "        self.parent_hardware = parent_hardware\n",
    "        \n",
    "    # reset the state of the qubit to the pure |0> state.    \n",
    "    def reset(self):               \n",
    "        # Resetting is non-trivial! If the qubit \n",
    "        # you are initialization /reseting is entangled with other \n",
    "        # qubits you can mess up, or more precisely, lose track, of \n",
    "        # the state of the other qubits. The other qubit becomes \n",
    "        # entangled with the environment, which we generally \n",
    "        # don't have access to.\n",
    "        # can we reset a qubit by destroying in then re-initializing it?\n",
    "        pass\n",
    "    \n",
    "    def destroy(self):\n",
    "        pass\n",
    "\n",
    "\n",
    "#     def applyChannel(self, channel):\n",
    "#         Global_Quantum_State_Container.applyChannel(channel)\n",
    "        \n",
    "\n",
    "\n",
    "    # move these sendMessage functions to an external function\n",
    "    # This function is a wire running from the qubit to the repeater hardware.\n",
    "    # Can we detect when a qubit has decohered?\n",
    "#     def sendMessage(self, obj, msg):\n",
    "#         obj.handleMessage(msg)\n",
    "        \n",
    "    def decohere(self): # decoherence should happen gradually. How can we do that?\n",
    "#         channel = rx(phi, N=globalState.N, target=self.id):  # note that the id of the qubit is its position in the chain\n",
    "        # apply decoherence map here\n",
    "        gate = tensor([identity(2) for _ in range(self.global_state.N)])\n",
    "        new_state = gate * self.global_state.state * gate.dag()  # for now the map is a identity unitary gate\n",
    "        self.global_state.update_state(new_state)\n",
    "\n",
    "#     while True:\n",
    "#         # gradually decohere. Do it in a thread.\n",
    "        # see whiteboard for the new way"
   ]
  },
  {
   "cell_type": "code",
   "execution_count": null,
   "metadata": {},
   "outputs": [],
   "source": []
  }
 ],
 "metadata": {
  "kernelspec": {
   "display_name": "Python 3",
   "language": "python",
   "name": "python3"
  },
  "language_info": {
   "codemirror_mode": {
    "name": "ipython",
    "version": 3
   },
   "file_extension": ".py",
   "mimetype": "text/x-python",
   "name": "python",
   "nbconvert_exporter": "python",
   "pygments_lexer": "ipython3",
   "version": "3.7.6"
  }
 },
 "nbformat": 4,
 "nbformat_minor": 2
}
